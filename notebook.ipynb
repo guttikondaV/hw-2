{
 "cells": [
  {
   "cell_type": "markdown",
   "metadata": {},
   "source": [
    "# HW-2\n",
    "\n",
    "- Subject Name: Deep Learning\n",
    "- Subject Code: CS 7150\n",
    "- Professor Name: Jiaji Liu\n",
    "- Student Name: Varun Guttikonda\n",
    "- NUID: 002697400"
   ]
  },
  {
   "cell_type": "markdown",
   "metadata": {},
   "source": [
    "## Problem 1\n",
    "\n",
    "**(Sampled Softmax)** We talked about softmax classifier in the class. Suppose there are *C* classes. A softmax classifier takes a vector $\\vec{x} \\in \\mathbb{R}^d$, computes logits:  \n",
    "\n",
    "$$\\vec{z_i} = \\vec{w_i}^T\\vec{x} + \\vec{b_i}$$\n",
    "\n",
    "then predicts the probability of class $i$ as:  \n",
    "\n",
    "$$p_i = \\frac{e^{z_i}}{\\sum_{j=1}^C e^{z_j}}$$\n",
    "\n",
    "where $\\vec{w_i} \\in \\mathbb{R}^d$ and $\\vec{b_i} \\in \\mathbb{R}, i=1,2,\\dots,C$ are trainable parameters. They are trained by minimizing a cross entropy loss. Specifically a datum $\\vec{x}$ with label *c* incurs a training loss of $$\\mathcal{l} = - \\log p_c$$\n",
    "\n",
    "and we update the trainable parameters by Stochastic Gradient Descent (SGD).\n"
   ]
  },
  {
   "cell_type": "markdown",
   "metadata": {},
   "source": [
    "### Question 1\n",
    "\n",
    "Revisit the notes and derive the gradients $\\frac{\\partial l}{\\partial w_i}, \\frac{\\partial l}{\\partial b_i}$. Express them as function of $p_i$.\n",
    "\n",
    "<span style='font-size: 25px; font-weight: bold;'>Answer</span>\n",
    "\n",
    "$$\\frac{\\partial l}{\\partial w_i} = -\\log{p_i}\\frac{\\partial P_i}{\\partial w_i}$$\n",
    "\n",
    "$$\\frac{\\partial P_i}{\\partial w_i} = \\frac{x \\cdot e^{z_i}\\sum_{j=1}^C e^{z_j} - x \\cdot e^{z_i}e^{z_i}}{(\\sum_{j=1}^C e^{z_j})^2}$$\n",
    "\n",
    "We get this by the differentiation rule: $\\frac{d}{dx}\\frac{f}{g} = \\frac{f'g - fg'}{g^2}$.  \n",
    "\n",
    "\n",
    "\n",
    "$$\\frac{\\partial P_i}{\\partial w_i} = \\frac{x \\cdot e^{z_i}}{\\sum_{j=1}^C e^{z_j}} - x \\cdot \\frac{e^{z_i}}{\\sum_{j=1}^C e^{z_j}}\\frac{e^{z_i}}{\\sum_{j=1}^C e^{z_j}}$$\n",
    "\n",
    "$$\\frac{\\partial P_i}{\\partial w_i} = x \\cdot p_i - x \\cdot p_i^2$$\n",
    "\n",
    "$$\\frac{\\partial P_i}{\\partial w_i} = x \\cdot p_i(1 - p_i)$$\n",
    "\n",
    "$$\\frac{\\partial l}{\\partial w_i} = -\\log{p_i} \\cdot x \\cdot p_i(1 - p_i)$$\n",
    "\n",
    "If we send the negative sign inside the $(1 - p_i)$ term, we get:\n",
    "\n",
    "$$\\frac{\\partial l}{\\partial w_i} = \\log{p_i} \\cdot x \\cdot p_i(p_i - 1)$$\n",
    "\n",
    "\n",
    "Similarly, we can derive the gradient for $b_i$:\n",
    "\n",
    "$$\\frac{\\partial l}{\\partial b_i} = -\\log{p_i}\\frac{\\partial P_i}{\\partial b_i}$$\n",
    "\n",
    "$$\\frac{\\partial P_i}{\\partial b_i} = \\frac{e^{z_i}\\sum_{j=1}^C e^{z_j} - e^{z_i}e^{z_i}}{(\\sum_{j=1}^C e^{z_j})^2}$$\n",
    "\n",
    "$$\\frac{\\partial P_i}{\\partial b_i} = \\frac{e^{z_i}}{\\sum_{j=1}^C e^{z_j}} - \\frac{e^{z_i}}{\\sum_{j=1}^C e^{z_j}}\\frac{e^{z_i}}{\\sum_{j=1}^C e^{z_j}}$$\n",
    "\n",
    "$$\\frac{\\partial P_i}{\\partial b_i} = p_i - p_i^2$$\n",
    "\n",
    "$$\\frac{\\partial l}{\\partial b_i} = -\\log{p_i} \\cdot p_i - p_i^2$$\n",
    "\n",
    "$$\\frac{\\partial l}{\\partial b_i} = -\\log{p_i} \\cdot p_i(1 - p_i)$$\n",
    "\n",
    "If we send the negative sign inside the $(1 - p_i)$ term, we get:\n",
    "\n",
    "$$\\frac{\\partial l}{\\partial b_i} = \\log{p_i} \\cdot p_i(p_i - 1)$$"
   ]
  },
  {
   "cell_type": "markdown",
   "metadata": {},
   "source": [
    "### Question 2\n",
    "The denominator of $p_i$ requires to compute $C$ terms. That is, $e^{z_j}, j = 1, 2,\\dots, C$. When *C* is big, this can incur tremendous computational cost.  \n",
    "\n",
    "Sampled softmax alleviates this by randomly sampling $K (K << C)$ of these terms to approximate $p_i$. Specifically, we choose a distribution with probability mass function *q* over the *C* classes. We draw *K* class ID's from *q*. Denote this set of sampled class ID's as $\\mathcal{S}$, and assume class *i* itself is excluded from $\\mathcal{S}$. We can then approximate the denominator by:  \n",
    "\n",
    "$$\\sum_{j=1}^{C} e^{z_j} \\approx e^{z_i} + \\frac{1}{K}\\sum_{j \\in \\mathcal{S}}q_je^{z_j}$$\n",
    "\n",
    "Then $p_i$ is approximated by:  \n",
    "\n",
    "$$\\hat{p_i} = \\frac{e^{z_j}}{e^{z_i} + \\frac{1}{K}\\sum_{j \\in \\mathcal{S}}q_je^{z_j}}$$\n",
    "\n",
    "The approximated training loss is therefore:  \n",
    "\n",
    "$$\\hat{\\mathcal{l}} = - \\log \\hat{p_c}$$\n",
    "\n",
    "Derive the gradients $\\frac{\\partial \\hat{\\mathcal{l}}}{\\partial w_i}, \\frac{\\partial \\hat{\\mathcal{l}}}{\\partial b_i}$.\n",
    "\n",
    "<span style='font-size: 25px; font-weight: bold;'>Answer</span>\n",
    "\n",
    "$$\\frac{\\partial \\hat{\\mathcal{l}}}{\\partial w_i} = -\\log{\\hat{p_i}}\\frac{\\partial \\hat{P_i}}{\\partial w_i}$$\n",
    "\n",
    "$$\\frac{\\partial \\hat{P_i}}{\\partial w_i} = \\frac{x \\cdot e^{z_i}(e^{z_i} + \\frac{1}{K}\\sum_{j \\in \\mathcal{S}}q_je^{z_j}) - x \\cdot e^{2z_i} - \\frac{xq_j}{K} e^{2z_i}}{(e^{z_i} + \\frac{1}{K}\\sum_{j \\in \\mathcal{S}}q_je^{z_j})^2}$$\n",
    "\n",
    "The final simplification produces:\n",
    "$$\\frac{\\partial \\hat{P_i}}{\\partial w_i} = x \\cdot \\frac{e^{z_i}}{e^{z_i} + \\frac{1}{K}\\sum_{j \\in \\mathcal{S}}q_je^{z_j}} - x \\cdot \\frac{e^{2z_i} + \\frac{q_j}{K} e^{2z_i}}{(e^{z_i} + \\frac{1}{K}\\sum_{j \\in \\mathcal{S}}q_je^{z_j})^2}$$\n",
    "\n",
    "which simplifies to:\n",
    "$$x \\cdot \\hat{P_i} \\cdot (1 - \\hat{P_i}(1 - \\frac{q_j}{K}))$$\n",
    "\n",
    "So the total gradient is:\n",
    "$$\\frac{\\partial \\hat{\\mathcal{l}}}{\\partial w_i} = -\\log{\\hat{p_i}} \\cdot x \\cdot \\hat{P_i} \\cdot (1 - \\hat{P_i}(1 - \\frac{q_j}{K}))$$\n",
    "\n",
    "Similarly, we can derive the gradient for $b_i$:\n",
    "\n",
    "$$\\frac{\\partial \\hat{\\mathcal{l}}}{\\partial b_i} = -\\log{\\hat{p_i}}\\frac{\\partial \\hat{P_i}}{\\partial b_i}$$\n",
    "\n",
    "$$\\frac{\\partial \\hat{P_i}}{\\partial b_i} = \\frac{e^{z_i}(e^{z_i} + \\frac{1}{K}\\sum_{j \\in \\mathcal{S}}q_je^{z_j}) - e^{2z_i} - \\frac{q_j}{K} e^{2z_i}}{(e^{z_i} + \\frac{1}{K}\\sum_{j \\in \\mathcal{S}}q_je^{z_j})^2}$$\n",
    "\n",
    "The final simplification produces:\n",
    "$$\\frac{\\partial \\hat{P_i}}{\\partial b_i} = \\frac{e^{z_i}}{e^{z_i} + \\frac{1}{K}\\sum_{j \\in \\mathcal{S}}q_je^{z_j}} - \\frac{e^{2z_i} + \\frac{q_j}{K} e^{2z_i}}{(e^{z_i} + \\frac{1}{K}\\sum_{j \\in \\mathcal{S}}q_je^{z_j})^2}$$\n",
    "\n",
    "which simplifies to:\n",
    "\n",
    "$$\\hat{P_i} \\cdot (1 - \\hat{P_i}(1 - \\frac{q_j}{K}))$$\n",
    "\n",
    "So the total gradient is:\n",
    "$$\\frac{\\partial \\hat{\\mathcal{l}}}{\\partial b_i} = -\\log{\\hat{p_i}} \\cdot \\hat{P_i} \\cdot (1 - \\hat{P_i}(1 - \\frac{q_j}{K}))$$"
   ]
  },
  {
   "cell_type": "markdown",
   "metadata": {},
   "source": [
    "## Problem 2\n",
    "\n",
    "**Linear Classifier v.s. MLP**: In this exercise, we compare softmax classifier with and without MLP feature extractor. Please attach all code.  \n",
    "\n",
    "We will use MNIST dataset through out. MNIST are `28 x 28` images of hand-written digits. The training partition has 60,000 images and test partition has 10,000 images. Use the following code snippet to further split the training partition into a training set and a validation set. \n",
    "\n",
    "```python\n",
    "import torch\n",
    "from torchvision import datasets\n",
    "\n",
    "train_all = datasets.MNIST('../data', train=True, download=True) # 60K images\n",
    "train_data, val_data = torch.utils.data.random_split(train_all, [50000, 10000], torch.Generator().manual_seed(0)) # train: 50K; val: 10K\n",
    "test_data = datasets.MNIST('../data', train=False) # 10K images\n",
    "```"
   ]
  },
  {
   "cell_type": "markdown",
   "metadata": {},
   "source": [
    "#### Note\n",
    "\n",
    "Although the problem is suggesting to use `PyTorch`, the course and the professor have assured that we can use any framework of our choice. I have used `TensorFlow` for this problem. Please note that the API and the methodology used in `TensorFlow` is not very similar to `PyTorch`. The outputs that I achieve are very similar to the ones that are expected."
   ]
  },
  {
   "cell_type": "code",
   "execution_count": 1,
   "metadata": {},
   "outputs": [],
   "source": [
    "# Import libraries\n",
    "import matplotlib.pyplot as plt\n",
    "import tensorflow as tf\n",
    "from tensorflow import keras\n",
    "\n",
    "# Define Jupyter Magics\n",
    "%matplotlib inline\n",
    "\n",
    "# Define HYPERPARAMETERS, constants etc\n",
    "EPOCHS = 5\n",
    "BATCH_SIZE = 64\n",
    "RANDOM_SEED = 0\n",
    "TRAINING_DATA_SIZE = 50_000\n",
    "VALIDATION_DATA_SIZE = 10_000\n",
    "SHOULD_SHUFFLE = True"
   ]
  },
  {
   "cell_type": "code",
   "execution_count": 2,
   "metadata": {},
   "outputs": [],
   "source": [
    "# Create a train, test and val dataset from a numpy array\n",
    "\n",
    "(x_train, y_train), (x_test, y_test) = keras.datasets.mnist.load_data()\n",
    "\n",
    "x_train = x_train / 255.0\n",
    "x_test = x_test / 255.0"
   ]
  },
  {
   "cell_type": "code",
   "execution_count": 3,
   "metadata": {},
   "outputs": [],
   "source": [
    "# Create Datasets as given by snippet (use same names)\n",
    "\n",
    "train_all = tf.data.Dataset.from_tensor_slices((x_train, y_train))\n",
    "test_data = tf.data.Dataset.from_tensor_slices((x_test, y_test))\n",
    "\n",
    "train_data, val_data = keras.utils.split_dataset(\n",
    "    train_all,\n",
    "    left_size=TRAINING_DATA_SIZE,  # 50,000\n",
    "    right_size=VALIDATION_DATA_SIZE,  # 10,000\n",
    "    seed=RANDOM_SEED,  # 0\n",
    "    shuffle=SHOULD_SHUFFLE,  # True\n",
    ")\n",
    "\n",
    "train_data = train_data.batch(BATCH_SIZE)\n",
    "val_data = val_data.batch(BATCH_SIZE)\n",
    "test_data = test_data.batch(BATCH_SIZE)"
   ]
  },
  {
   "cell_type": "markdown",
   "metadata": {},
   "source": [
    "### Question 1\n",
    "Build a 10-class softmax classifier of the images. Train the classifier via `Stochastic Gradient Descent (SGD)` and report the test accuracy."
   ]
  },
  {
   "cell_type": "code",
   "execution_count": 4,
   "metadata": {},
   "outputs": [],
   "source": [
    "simple_model = keras.Sequential(\n",
    "    [\n",
    "        keras.layers.Input(shape=(28, 28)),\n",
    "        keras.layers.Flatten(input_shape=(28, 28)),  # Flatten the input to a vector\n",
    "        keras.layers.Dense(10, activation=\"softmax\"),\n",
    "    ]\n",
    ")\n",
    "\n",
    "simple_model.compile(\n",
    "    optimizer=\"sgd\",  # Use stochastic gradient descent with lr of 0.01\n",
    "    loss=\"sparse_categorical_crossentropy\",\n",
    "    metrics=[\"accuracy\"],\n",
    ")\n",
    "\n",
    "history = simple_model.fit(\n",
    "    train_data, epochs=EPOCHS, validation_data=val_data, verbose=0\n",
    ")"
   ]
  },
  {
   "cell_type": "code",
   "execution_count": 5,
   "metadata": {},
   "outputs": [
    {
     "name": "stdout",
     "output_type": "stream",
     "text": [
      "157/157 [==============================] - 0s 289us/step - loss: 0.3959 - accuracy: 0.8942\n",
      "The accuracy is: 0.89\n"
     ]
    }
   ],
   "source": [
    "loss, accuracy = simple_model.evaluate(test_data)\n",
    "\n",
    "print(f\"The accuracy is: {accuracy:.2f}\")"
   ]
  },
  {
   "cell_type": "markdown",
   "metadata": {},
   "source": [
    "### Question 2\n",
    "Insert one hidden layer with 1024 hidden units before the softmax classifer. Use `ReLU` as the activation function at the hidden layer. Train and report the test accuracy."
   ]
  },
  {
   "cell_type": "code",
   "execution_count": 6,
   "metadata": {},
   "outputs": [],
   "source": [
    "simple_hidden_model = keras.Sequential(\n",
    "    [\n",
    "        keras.layers.Input(shape=(28, 28)),\n",
    "        keras.layers.Flatten(input_shape=(28, 28)),  # Flatten the input to a vector\n",
    "        keras.layers.Dense(1024, activation=\"relu\"),\n",
    "        keras.layers.Dense(10, activation=\"softmax\"),\n",
    "    ]\n",
    ")\n",
    "\n",
    "simple_hidden_model.compile(\n",
    "    optimizer=\"sgd\",  # Use stochastic gradient descent with lr of 0.01\n",
    "    loss=\"sparse_categorical_crossentropy\",\n",
    "    metrics=[\"accuracy\"],\n",
    ")\n",
    "\n",
    "history = simple_hidden_model.fit(\n",
    "    train_data,\n",
    "    epochs=EPOCHS,\n",
    "    validation_data=val_data,\n",
    "    verbose=0,\n",
    ")"
   ]
  },
  {
   "cell_type": "code",
   "execution_count": 7,
   "metadata": {},
   "outputs": [
    {
     "name": "stdout",
     "output_type": "stream",
     "text": [
      "157/157 [==============================] - 0s 853us/step - loss: 0.2705 - accuracy: 0.9252\n",
      "The accuracy is: 0.93\n"
     ]
    }
   ],
   "source": [
    "loss, accuracy = simple_hidden_model.evaluate(test_data)\n",
    "\n",
    "print(f\"The accuracy is: {accuracy:.2f}\")"
   ]
  },
  {
   "cell_type": "markdown",
   "metadata": {},
   "source": [
    "### Question 3\n",
    "Let us count the number of learnable parameters in the above model:  \n",
    "- input-to-hidden-layer weight matrix: $28^2 \\times 1024$\n",
    "- input-to-hidden-layer bias: $1024$\n",
    "- softmax classifier weight matrix: $1024 \\times 10$\n",
    "- softmax classifier bias: $10$\n",
    "\n",
    "So the total number of learnable parameters are:  \n",
    "\n",
    "$$(28^2 \\times 1024) + 1024 + (1024 \\times 10) + 10 = 814,090$$\n",
    "\n",
    "Now instead of inserting one hidden layer, we insert $\\mathcal{L} (\\mathcal{L} \\ge 2)$ hidden layers, each with equal number of hidden units. We keep the total learnable parameters at $814,090$. Derive the number of hidden units per layer. Expresss it as a function of $\\mathcal{L}$.\n",
    "\n",
    "<span style=\"font-size: 28px;font-weight:bold;\">Answer:</span>\n",
    "\n",
    "Let the number of hidden units in each hidden layer be $k$. Let's count the number of learnable parameters for $\\mathcal{L}$ hidden layers.\n",
    "\n",
    "For $\\mathcal{L} = 2$, we have: $(784 \\times k) + k + (k \\times 10) + 10$.  \n",
    "\n",
    "For $\\mathcal{L} = 3$, we have: $(784 \\times k) + k + (k \\times k) + k + (k \\times 10) + 10$.  \n",
    "\n",
    "For $\\mathcal{L} = 4$, we have: $(784 \\times k) + k + (k \\times k) + k + (k \\times k) + k + (k \\times 10) + 10$.  \n",
    "\n",
    "By mathematical induction, we can say that for $\\mathcal{L}$ hidden layers, the number of learnable parameters is:\n",
    "$$(784 \\times k + k) + (\\mathcal{L} - 1)\\times(k \\times k + k) + (k \\times 10 + 10) \\forall \\mathcal{L} \\ge 2$$\n",
    "\n",
    "This equations simplifies to:\n",
    "$$k^2 \\times (\\mathcal{L} - 1) + k \\times (\\mathcal{L} + 794) + 10$$\n",
    "\n",
    "Now we want to keep the total number of learnable parameters to be $814,090$. So we have:\n",
    "$$k^2 \\times (\\mathcal{L} - 1) + k \\times (\\mathcal{L} + 794) + 10 = 814,090$$\n",
    "\n",
    "which simplifies to:\n",
    "$$k^2 \\times (\\mathcal{L} - 1) + k \\times (\\mathcal{L} + 794) - 814,080 = 0$$\n",
    "\n",
    "Solving this quadratic equation, we get the number of hidden units per layer as a function of number of layers where we want to keep the total number of learnable parameters to be $814,090$.\n",
    "\n",
    "Thus the number of hidden units per layer is:\n",
    "$$ k = \\frac{-(\\mathcal{L} + 794) \\pm \\sqrt{(\\mathcal{L} + 794)^2 - (4 \\times (\\mathcal{L} - 1) \\times (- 814,080))}}{2 \\times (\\mathcal{L} - 1)}$$\n",
    "\n",
    "Gotchas:\n",
    "1. If the number of hidden units per layer is a decimal, we can round it off to the nearest integer.\n",
    "2. If the number of hidden units per layer is negative, we can take the absolute value of it."
   ]
  },
  {
   "cell_type": "markdown",
   "metadata": {},
   "source": [
    "### Question 4 (Bonus)\n",
    "\n",
    "Train a MLP model with architecture defined in Question 3 whree $\\mathcal{L} = 2,3,\\dots,8$. Get the test accuracy for each $\\mathcal{L}$. Note that in Question 2, we already get the accuracy for $\\mathcal{L} = 1$. Plot the accuracy against $\\mathcal{L}$, where $\\mathcal{L} = 1,2,3,\\dots,8$."
   ]
  },
  {
   "cell_type": "code",
   "execution_count": 8,
   "metadata": {},
   "outputs": [
    {
     "name": "stdout",
     "output_type": "stream",
     "text": [
      "157/157 [==============================] - 0s 872us/step - loss: 0.2696 - accuracy: 0.9266\n",
      "157/157 [==============================] - 0s 2ms/step - loss: 0.2207 - accuracy: 0.9372\n",
      "157/157 [==============================] - 0s 3ms/step - loss: 0.1861 - accuracy: 0.9460\n",
      "157/157 [==============================] - 1s 4ms/step - loss: 0.1647 - accuracy: 0.9504\n",
      "157/157 [==============================] - 1s 3ms/step - loss: 0.1536 - accuracy: 0.9523\n",
      "157/157 [==============================] - 1s 4ms/step - loss: 0.1407 - accuracy: 0.9566\n",
      "157/157 [==============================] - 1s 5ms/step - loss: 0.1315 - accuracy: 0.9606\n",
      "157/157 [==============================] - 1s 5ms/step - loss: 0.1332 - accuracy: 0.9582\n"
     ]
    }
   ],
   "source": [
    "n_hidden_layers = list(range(1, 9))\n",
    "accuracies = [0] * len(n_hidden_layers)\n",
    "\n",
    "for idx, n_hidden_layer in enumerate(n_hidden_layers):\n",
    "    hidden_layers = [\n",
    "        keras.layers.Dense(1024, activation=\"relu\") for _ in range(n_hidden_layer)\n",
    "    ]\n",
    "\n",
    "    model = keras.Sequential(\n",
    "        [\n",
    "            keras.layers.Input(shape=(28, 28)),\n",
    "            keras.layers.Flatten(input_shape=(28, 28)),  # Flatten the input to a vector\n",
    "            *hidden_layers,\n",
    "            keras.layers.Dense(10, activation=\"softmax\"),\n",
    "        ]\n",
    "    )\n",
    "\n",
    "    model.compile(\n",
    "        optimizer=\"sgd\",  # Use stochastic gradient descent with lr of 0.01\n",
    "        loss=\"sparse_categorical_crossentropy\",\n",
    "        metrics=[\"accuracy\"],\n",
    "    )\n",
    "\n",
    "    history = model.fit(train_data, epochs=EPOCHS, validation_data=val_data, verbose=0)\n",
    "\n",
    "    loss, accuracy = model.evaluate(test_data)\n",
    "\n",
    "    accuracies[idx] = accuracy"
   ]
  },
  {
   "cell_type": "code",
   "execution_count": 12,
   "metadata": {},
   "outputs": [
    {
     "data": {
      "image/png": "[encoded data removed]",
      "text/plain": [
       "<Figure size 1000x750 with 1 Axes>"
      ]
     },
     "metadata": {},
     "output_type": "display_data"
    }
   ],
   "source": [
    "# Plot the accuracies\n",
    "plt.style.use(\"fast\")\n",
    "plt.figure(figsize=(10, 7.5))\n",
    "plt.plot(n_hidden_layers, accuracies, marker=\"o\")\n",
    "plt.title(\"Accuracy vs Number of hidden layers\")\n",
    "plt.xlabel(\"Number of hidden layers\")\n",
    "plt.ylabel(\"Accuracy\")\n",
    "plt.grid(True)\n",
    "plt.show()"
   ]
  }
 ],
 "metadata": {
  "kernelspec": {
   "display_name": "northeastern",
   "language": "python",
   "name": "python3"
  },
  "language_info": {
   "codemirror_mode": {
    "name": "ipython",
    "version": 3
   },
   "file_extension": ".py",
   "mimetype": "text/x-python",
   "name": "python",
   "nbconvert_exporter": "python",
   "pygments_lexer": "ipython3",
   "version": "3.11.5"
  }
 },
 "nbformat": 4,
 "nbformat_minor": 2
}
